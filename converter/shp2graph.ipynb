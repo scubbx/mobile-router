{
 "cells": [
  {
   "cell_type": "markdown",
   "metadata": {},
   "source": [
    "This listing converts a given *road shapefile* into a *linked graph* and stores it in a *CouchDB*."
   ]
  },
  {
   "cell_type": "code",
   "execution_count": 8,
   "metadata": {
    "collapsed": false
   },
   "outputs": [],
   "source": [
    "import networkx as nx\n",
    "from networkx.readwrite import json_graph\n",
    "import json\n",
    "import csv\n",
    "import mpcouch"
   ]
  },
  {
   "cell_type": "code",
   "execution_count": 2,
   "metadata": {
    "collapsed": false
   },
   "outputs": [
    {
     "name": "stdout",
     "output_type": "stream",
     "text": [
      "done reading\n"
     ]
    }
   ],
   "source": [
    "G = nx.read_shp('vienna_austria_osm_roads.shp')\n",
    "print('done reading')"
   ]
  },
  {
   "cell_type": "code",
   "execution_count": 24,
   "metadata": {
    "collapsed": false
   },
   "outputs": [],
   "source": [
    "data = json_graph.node_link_data(G, attrs={'source': 'source', 'target': 'target', 'key': 'key', 'id': 'id'})\n",
    "# jsondata = json.dumps(data)"
   ]
  },
  {
   "cell_type": "markdown",
   "metadata": {},
   "source": [
    "The following function removes the \"Wkb\" attribute from the result since it is not JSON-parsable."
   ]
  },
  {
   "cell_type": "code",
   "execution_count": null,
   "metadata": {
    "collapsed": true
   },
   "outputs": [],
   "source": [
    "# cleareddata = (x.pop('Wkb') for x in data['links'])"
   ]
  },
  {
   "cell_type": "code",
   "execution_count": 25,
   "metadata": {
    "collapsed": false
   },
   "outputs": [
    {
     "name": "stdout",
     "output_type": "stream",
     "text": [
      "{'name': 'Kandlgasse', 'class': 'highway', 'bridge': 0, 'source': 4, 'Wkb': b'\\x00\\x00\\x00\\x00\\x02\\x00\\x00\\x00\\x02@0V\\xb2O\\xd6\\xb1\\xd8@H\\x19\\xf39\\xabxx@0Vq\\xe0\\x86\\xb1\\x98@H\\x19\\xf1\\xa6\\xc7xx', 'z_order': 3.0, 'service': None, 'ShpName': 'vienna_austria_osm_roads', 'target': 42477, 'type': 'residential', 'Wkt': 'LINESTRING (16.338658323207568 48.202735146261091,16.337675125965319 48.202687117955918)', 'id': 16357.0, 'osm_id': 26621215.0, 'length': 73.27, 'tunnel': 0, 'ref': None, 'oneway': 1, 'access': None, 'Json': '{ \"type\": \"LineString\", \"coordinates\": [ [ 16.338658323207568, 48.202735146261091 ], [ 16.337675125965319, 48.202687117955918 ] ] }'}\n"
     ]
    }
   ],
   "source": [
    "for entry in data['links']:\n",
    "    print(entry)\n",
    "    break"
   ]
  },
  {
   "cell_type": "code",
   "execution_count": null,
   "metadata": {
    "collapsed": true
   },
   "outputs": [],
   "source": []
  }
 ],
 "metadata": {
  "kernelspec": {
   "display_name": "Python 3",
   "language": "python",
   "name": "python3"
  },
  "language_info": {
   "codemirror_mode": {
    "name": "ipython",
    "version": 3
   },
   "file_extension": ".py",
   "mimetype": "text/x-python",
   "name": "python",
   "nbconvert_exporter": "python",
   "pygments_lexer": "ipython3",
   "version": "3.4.3"
  }
 },
 "nbformat": 4,
 "nbformat_minor": 0
}
