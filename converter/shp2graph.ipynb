{
 "cells": [
  {
   "cell_type": "markdown",
   "metadata": {},
   "source": [
    "This listing converts a given *road shapefile* into a *linked graph* and stores it in a *CouchDB*."
   ]
  },
  {
   "cell_type": "code",
   "execution_count": 2,
   "metadata": {
    "collapsed": false
   },
   "outputs": [],
   "source": [
    "import networkx as nx\n",
    "from networkx.readwrite import json_graph\n",
    "import json\n",
    "import csv\n",
    "import mpcouch"
   ]
  },
  {
   "cell_type": "code",
   "execution_count": 3,
   "metadata": {
    "collapsed": false
   },
   "outputs": [
    {
     "name": "stdout",
     "output_type": "stream",
     "text": [
      "done reading\n"
     ]
    }
   ],
   "source": [
    "G = nx.read_shp('vienna_austria_osm_roads.shp')\n",
    "print('done reading')"
   ]
  },
  {
   "cell_type": "code",
   "execution_count": 4,
   "metadata": {
    "collapsed": true
   },
   "outputs": [],
   "source": [
    "data = json_graph.node_link_data(G, attrs={'source': 'source', 'target': 'target', 'key': 'key', 'id': 'id'})\n",
    "# jsondata = json.dumps(data)"
   ]
  },
  {
   "cell_type": "markdown",
   "metadata": {},
   "source": [
    "Initialize the database connection:"
   ]
  },
  {
   "cell_type": "code",
   "execution_count": 10,
   "metadata": {
    "collapsed": true
   },
   "outputs": [],
   "source": [
    "database = mpcouch.mpcouchPusher( \"http://gi88.geoinfo.tuwien.ac.at:5984/vienna_graph3\", 10000 )"
   ]
  },
  {
   "cell_type": "markdown",
   "metadata": {},
   "source": [
    "Loop through all links and store them in the database:"
   ]
  },
  {
   "cell_type": "code",
   "execution_count": null,
   "metadata": {
    "collapsed": false
   },
   "outputs": [],
   "source": [
    "for entry in data['links']:\n",
    "    doc = {'_id': str(int(entry['osm_id'])),\n",
    "           'entrytype': 'link',\n",
    "           'name': entry['name'],\n",
    "           'class': entry['class'],\n",
    "           'source': entry['source'],\n",
    "           'target': entry['target'],\n",
    "           'type': entry['type'],\n",
    "           'length': entry['length'],\n",
    "           'oneway': entry['oneway'],\n",
    "           'json': json.loads(entry['Json'])} # json.loads is necessary, so that the json is actually stored as json and not as string in the CouchDB document\n",
    "    database.pushData(doc)\n",
    "database.finish()"
   ]
  },
  {
   "cell_type": "markdown",
   "metadata": {},
   "source": [
    "Now, the graph is stored in the database."
   ]
  },
  {
   "cell_type": "code",
   "execution_count": null,
   "metadata": {
    "collapsed": false
   },
   "outputs": [],
   "source": []
  }
 ],
 "metadata": {
  "kernelspec": {
   "display_name": "Python 3",
   "language": "python",
   "name": "python3"
  },
  "language_info": {
   "codemirror_mode": {
    "name": "ipython",
    "version": 3
   },
   "file_extension": ".py",
   "mimetype": "text/x-python",
   "name": "python",
   "nbconvert_exporter": "python",
   "pygments_lexer": "ipython3",
   "version": "3.4.3"
  }
 },
 "nbformat": 4,
 "nbformat_minor": 0
}
