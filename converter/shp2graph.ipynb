{
 "cells": [
  {
   "cell_type": "markdown",
   "metadata": {},
   "source": [
    "This listing converts a given *road shapefile* into a *linked graph* and stores it in a *CouchDB*."
   ]
  },
  {
   "cell_type": "code",
   "execution_count": 1,
   "metadata": {
    "collapsed": false
   },
   "outputs": [],
   "source": [
    "import networkx as nx\n",
    "from networkx.readwrite import json_graph\n",
    "import json\n",
    "import csv\n",
    "import mpcouch"
   ]
  },
  {
   "cell_type": "code",
   "execution_count": 2,
   "metadata": {
    "collapsed": false
   },
   "outputs": [
    {
     "name": "stdout",
     "output_type": "stream",
     "text": [
      "done reading\n"
     ]
    }
   ],
   "source": [
    "G = nx.read_shp('vienna_austria_osm_roads.shp')\n",
    "print('done reading')"
   ]
  },
  {
   "cell_type": "code",
   "execution_count": 3,
   "metadata": {
    "collapsed": false
   },
   "outputs": [],
   "source": [
    "data = json_graph.node_link_data(G, attrs={'source': 'source', 'target': 'target', 'key': 'key', 'id': 'id'})\n",
    "# jsondata = json.dumps(data)"
   ]
  },
  {
   "cell_type": "markdown",
   "metadata": {},
   "source": [
    "Initialize the database connection:"
   ]
  },
  {
   "cell_type": "code",
   "execution_count": 4,
   "metadata": {
    "collapsed": false
   },
   "outputs": [],
   "source": [
    "database = mpcouch.mpcouchPusher( \"http://gi88.geoinfo.tuwien.ac.at:5984/vienna_graph\", 30000 )"
   ]
  },
  {
   "cell_type": "markdown",
   "metadata": {},
   "source": [
    "Loop through all links and store them in the database:"
   ]
  },
  {
   "cell_type": "code",
   "execution_count": 6,
   "metadata": {
    "collapsed": false
   },
   "outputs": [
    {
     "name": "stdout",
     "output_type": "stream",
     "text": [
      "spawned process 5\n",
      "processcount: 1 process-queue: 0  collected so far: 134178\n",
      "spawned process 6\n",
      "spawned process 7\n",
      "generate final upload process ...\n",
      "processcount: 1 process-queue: 2  collected so far: 208356\n",
      "processcount: 1 process-queue: 1  collected so far: 208356\n",
      "processcount: 1 process-queue: 0  collected so far: 208356\n",
      "waiting for upload-process <Process(Process-6, started)> to finish ...\n"
     ]
    },
    {
     "data": {
      "text/plain": [
       "14178"
      ]
     },
     "execution_count": 6,
     "metadata": {},
     "output_type": "execute_result"
    }
   ],
   "source": [
    "for entry in data['links']:\n",
    "    doc = {'_id': str(int(entry['osm_id'])),\n",
    "           'entrytype': 'link',\n",
    "           'name': entry['name'],\n",
    "           'class': entry['class'],\n",
    "           'source': entry['source'],\n",
    "           'target': entry['target'],\n",
    "           'type': entry['type'],\n",
    "           'length': entry['length'],\n",
    "           'oneway': entry['oneway'],\n",
    "           'json': entry['Json']}\n",
    "    database.pushData(doc)\n",
    "database.finish()"
   ]
  },
  {
   "cell_type": "markdown",
   "metadata": {},
   "source": [
    "Let's serialize the result as JSON:"
   ]
  },
  {
   "cell_type": "code",
   "execution_count": null,
   "metadata": {
    "collapsed": false,
    "scrolled": false
   },
   "outputs": [],
   "source": []
  },
  {
   "cell_type": "code",
   "execution_count": null,
   "metadata": {
    "collapsed": true
   },
   "outputs": [],
   "source": []
  }
 ],
 "metadata": {
  "kernelspec": {
   "display_name": "Python 3",
   "language": "python",
   "name": "python3"
  },
  "language_info": {
   "codemirror_mode": {
    "name": "ipython",
    "version": 3
   },
   "file_extension": ".py",
   "mimetype": "text/x-python",
   "name": "python",
   "nbconvert_exporter": "python",
   "pygments_lexer": "ipython3",
   "version": "3.4.3"
  }
 },
 "nbformat": 4,
 "nbformat_minor": 0
}
